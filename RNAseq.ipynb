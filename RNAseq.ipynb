{
 "cells": [
  {
   "cell_type": "code",
   "execution_count": 55,
   "id": "e1885d56-005e-4e51-843c-c95bc6157ac7",
   "metadata": {},
   "outputs": [],
   "source": [
    "import pandas as pd\n",
    "import numpy as np\n",
    "import matplotlib.pyplot as plt\n",
    "import re\n",
    "import seaborn as sns"
   ]
  },
  {
   "cell_type": "markdown",
   "id": "18f0d35b-10bb-4c87-91bd-f81b3c51d13d",
   "metadata": {},
   "source": [
    "# Importing the data"
   ]
  },
  {
   "cell_type": "code",
   "execution_count": 48,
   "id": "c0faec04-8557-46b2-9446-06074061a58a",
   "metadata": {
    "collapsed": true,
    "jupyter": {
     "outputs_hidden": true
    },
    "scrolled": true
   },
   "outputs": [
    {
     "data": {
      "text/html": [
       "<div>\n",
       "<style scoped>\n",
       "    .dataframe tbody tr th:only-of-type {\n",
       "        vertical-align: middle;\n",
       "    }\n",
       "\n",
       "    .dataframe tbody tr th {\n",
       "        vertical-align: top;\n",
       "    }\n",
       "\n",
       "    .dataframe thead th {\n",
       "        text-align: right;\n",
       "    }\n",
       "</style>\n",
       "<table border=\"1\" class=\"dataframe\">\n",
       "  <thead>\n",
       "    <tr style=\"text-align: right;\">\n",
       "      <th></th>\n",
       "      <th>siC8_n1</th>\n",
       "      <th>siC8_n2</th>\n",
       "      <th>siC8_n3</th>\n",
       "      <th>siC8_n4</th>\n",
       "      <th>siC8_n5</th>\n",
       "      <th>siC8_n6</th>\n",
       "      <th>siLuc_n1</th>\n",
       "      <th>siLuc_n2</th>\n",
       "      <th>siLuc_n3</th>\n",
       "      <th>siLuc_n4</th>\n",
       "      <th>siLuc_n5</th>\n",
       "      <th>siLuc_n6</th>\n",
       "    </tr>\n",
       "  </thead>\n",
       "  <tbody>\n",
       "    <tr>\n",
       "      <th>ENSG00000290825</th>\n",
       "      <td>0</td>\n",
       "      <td>0</td>\n",
       "      <td>0</td>\n",
       "      <td>0</td>\n",
       "      <td>1</td>\n",
       "      <td>3</td>\n",
       "      <td>0</td>\n",
       "      <td>0</td>\n",
       "      <td>0</td>\n",
       "      <td>0</td>\n",
       "      <td>1</td>\n",
       "      <td>2</td>\n",
       "    </tr>\n",
       "    <tr>\n",
       "      <th>ENSG00000310526</th>\n",
       "      <td>167</td>\n",
       "      <td>124</td>\n",
       "      <td>201</td>\n",
       "      <td>175</td>\n",
       "      <td>174</td>\n",
       "      <td>114</td>\n",
       "      <td>100</td>\n",
       "      <td>176</td>\n",
       "      <td>96</td>\n",
       "      <td>141</td>\n",
       "      <td>680</td>\n",
       "      <td>139</td>\n",
       "    </tr>\n",
       "    <tr>\n",
       "      <th>ENSG00000243485</th>\n",
       "      <td>0</td>\n",
       "      <td>0</td>\n",
       "      <td>2</td>\n",
       "      <td>0</td>\n",
       "      <td>1</td>\n",
       "      <td>0</td>\n",
       "      <td>0</td>\n",
       "      <td>1</td>\n",
       "      <td>0</td>\n",
       "      <td>0</td>\n",
       "      <td>0</td>\n",
       "      <td>0</td>\n",
       "    </tr>\n",
       "    <tr>\n",
       "      <th>ENSG00000241860</th>\n",
       "      <td>1</td>\n",
       "      <td>1</td>\n",
       "      <td>1</td>\n",
       "      <td>0</td>\n",
       "      <td>0</td>\n",
       "      <td>0</td>\n",
       "      <td>6</td>\n",
       "      <td>6</td>\n",
       "      <td>0</td>\n",
       "      <td>1</td>\n",
       "      <td>11</td>\n",
       "      <td>1</td>\n",
       "    </tr>\n",
       "  </tbody>\n",
       "</table>\n",
       "</div>"
      ],
      "text/plain": [
       "                 siC8_n1  siC8_n2  siC8_n3  siC8_n4  siC8_n5  siC8_n6  \\\n",
       "ENSG00000290825        0        0        0        0        1        3   \n",
       "ENSG00000310526      167      124      201      175      174      114   \n",
       "ENSG00000243485        0        0        2        0        1        0   \n",
       "ENSG00000241860        1        1        1        0        0        0   \n",
       "\n",
       "                 siLuc_n1  siLuc_n2  siLuc_n3  siLuc_n4  siLuc_n5  siLuc_n6  \n",
       "ENSG00000290825         0         0         0         0         1         2  \n",
       "ENSG00000310526       100       176        96       141       680       139  \n",
       "ENSG00000243485         0         1         0         0         0         0  \n",
       "ENSG00000241860         6         6         0         1        11         1  "
      ]
     },
     "execution_count": 48,
     "metadata": {},
     "output_type": "execute_result"
    }
   ],
   "source": [
    "rawcounts = pd.read_csv(\"data/Raw_counts_prefiltered.csv\", index_col=\"Unnamed: 0\")\n",
    "\n",
    "# rowns :\n",
    "#########\n",
    "if rawcounts.index.is_unique:\n",
    "    rawcounts.index = rawcounts.index.str.split(\".\", n = 1).str[0]\n",
    "\n",
    "# columns :\n",
    "###########\n",
    "rawcounts.columns = rawcounts.columns.str.split(\"_S\", n = 1).str[0]\n",
    "\n",
    "# Show data :\n",
    "#############\n",
    "rawcounts.head(4)"
   ]
  },
  {
   "cell_type": "code",
   "execution_count": 49,
   "id": "9bf43bab-ba3c-407e-add2-643c9c35afd7",
   "metadata": {
    "collapsed": true,
    "jupyter": {
     "outputs_hidden": true
    }
   },
   "outputs": [
    {
     "data": {
      "text/html": [
       "<div>\n",
       "<style scoped>\n",
       "    .dataframe tbody tr th:only-of-type {\n",
       "        vertical-align: middle;\n",
       "    }\n",
       "\n",
       "    .dataframe tbody tr th {\n",
       "        vertical-align: top;\n",
       "    }\n",
       "\n",
       "    .dataframe thead th {\n",
       "        text-align: right;\n",
       "    }\n",
       "</style>\n",
       "<table border=\"1\" class=\"dataframe\">\n",
       "  <thead>\n",
       "    <tr style=\"text-align: right;\">\n",
       "      <th></th>\n",
       "      <th>Conditions</th>\n",
       "      <th>Replicate</th>\n",
       "    </tr>\n",
       "  </thead>\n",
       "  <tbody>\n",
       "    <tr>\n",
       "      <th>siC8_n1</th>\n",
       "      <td>siC8</td>\n",
       "      <td>n1</td>\n",
       "    </tr>\n",
       "    <tr>\n",
       "      <th>siC8_n2</th>\n",
       "      <td>siC8</td>\n",
       "      <td>n2</td>\n",
       "    </tr>\n",
       "    <tr>\n",
       "      <th>siC8_n3</th>\n",
       "      <td>siC8</td>\n",
       "      <td>n3</td>\n",
       "    </tr>\n",
       "    <tr>\n",
       "      <th>siC8_n4</th>\n",
       "      <td>siC8</td>\n",
       "      <td>n4</td>\n",
       "    </tr>\n",
       "  </tbody>\n",
       "</table>\n",
       "</div>"
      ],
      "text/plain": [
       "        Conditions Replicate\n",
       "siC8_n1       siC8        n1\n",
       "siC8_n2       siC8        n2\n",
       "siC8_n3       siC8        n3\n",
       "siC8_n4       siC8        n4"
      ]
     },
     "execution_count": 49,
     "metadata": {},
     "output_type": "execute_result"
    }
   ],
   "source": [
    "Experimental = pd.DataFrame(index= rawcounts.columns,\n",
    "                           data= {\"Conditions\" : rawcounts.columns.str.split(\"_\").str[0],\n",
    "                                  \"Replicate\" : rawcounts.columns.str.split(\"_\").str[1]})\n",
    "\n",
    "Experimental.head(4)"
   ]
  },
  {
   "cell_type": "markdown",
   "id": "b45a7b6b-6d08-4fe6-84f2-a57238de77c9",
   "metadata": {},
   "source": [
    "## Counts distribution"
   ]
  },
  {
   "cell_type": "code",
   "execution_count": 72,
   "id": "c5ba1a1a-1f04-47f3-aa77-ae017b873d10",
   "metadata": {
    "collapsed": true,
    "jupyter": {
     "outputs_hidden": true
    }
   },
   "outputs": [
    {
     "data": {
      "image/png": "[encoded data removed]",
      "text/plain": [
       "<Figure size 800x600 with 1 Axes>"
      ]
     },
     "metadata": {},
     "output_type": "display_data"
    }
   ],
   "source": [
    "# go to long format ()equivalent of 'pivot_longer' in R) :\n",
    "# ========================================================\n",
    "df_long = rawcounts.reset_index().melt(id_vars=\"index\", var_name=\"Samples\", value_name=\"Counts\")\n",
    "\n",
    "# Add metadata (Condition column) :\n",
    "# =================================\n",
    "df_long[\"Conditions\"] = df_long[\"Samples\"].str.split(\"_\").str[0]\n",
    "\n",
    "# Creating the barplot :\n",
    "# ======================\n",
    "plt.figure(figsize=(8,6))\n",
    "sns.barplot(data=df_long, \n",
    "            x=\"Samples\", \n",
    "            y=\"Counts\",\n",
    "            hue=\"Conditions\",\n",
    "            estimator=sum)\n",
    "\n",
    "plt.xticks(rotation=45)\n",
    "plt.ylabel(\"Counts (total)\")\n",
    "plt.xlabel(\"\")\n",
    "plt.title(\"Total counts per sample\")\n",
    "plt.tight_layout()\n",
    "plt.show()"
   ]
  },
  {
   "cell_type": "markdown",
   "id": "0d05fb40-9f17-4856-9a74-bcc51b856ea7",
   "metadata": {},
   "source": [
    "## Removing n5"
   ]
  },
  {
   "cell_type": "code",
   "execution_count": null,
   "id": "cb2a1766-863c-4f80-8859-7a65b674b222",
   "metadata": {},
   "outputs": [],
   "source": []
  },
  {
   "cell_type": "code",
   "execution_count": null,
   "id": "982c02cb-e7da-4576-8452-fe8d795f32f3",
   "metadata": {},
   "outputs": [],
   "source": []
  },
  {
   "cell_type": "code",
   "execution_count": null,
   "id": "d3f11d38-589e-4a9b-b706-b40af21ec7dc",
   "metadata": {},
   "outputs": [],
   "source": []
  },
  {
   "cell_type": "code",
   "execution_count": null,
   "id": "048d1671-8a0d-4d9d-96cf-211fc2d84487",
   "metadata": {},
   "outputs": [],
   "source": []
  },
  {
   "cell_type": "code",
   "execution_count": null,
   "id": "deb1f594-6cde-49bc-becf-a06d40a1d50c",
   "metadata": {},
   "outputs": [],
   "source": []
  },
  {
   "cell_type": "code",
   "execution_count": null,
   "id": "5258d3c2-e5d6-4ad3-99bb-026f1e86607b",
   "metadata": {},
   "outputs": [],
   "source": []
  }
 ],
 "metadata": {
  "kernelspec": {
   "display_name": "Python 3 (ipykernel)",
   "language": "python",
   "name": "python3"
  },
  "language_info": {
   "codemirror_mode": {
    "name": "ipython",
    "version": 3
   },
   "file_extension": ".py",
   "mimetype": "text/x-python",
   "name": "python",
   "nbconvert_exporter": "python",
   "pygments_lexer": "ipython3",
   "version": "3.13.2"
  }
 },
 "nbformat": 4,
 "nbformat_minor": 5
}
